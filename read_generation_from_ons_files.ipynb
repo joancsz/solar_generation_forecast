{
 "cells": [
  {
   "cell_type": "code",
   "execution_count": 1,
   "metadata": {},
   "outputs": [],
   "source": [
    "#Data from:\n",
    "#https://dados.ons.org.br/dataset/geracao-usina-2\n",
    "\n",
    "import pandas as pd\n",
    "import os\n",
    "\n",
    "#Selecionei a Conj. Bom Jesus\n",
    "final_df = []\n",
    "columns = ['GERACAO_CENTRO_GRAVIDADE', 'SIGLA_USINA', 'DATA','PERIODO_COMERCIALIZACAO']\n",
    "folder = 'data/geracao_ons/'\n",
    "for file in os.listdir(folder):\n",
    "\n",
    "    path = os.path.join(folder, file)\n",
    "    df = pd.read_csv(path, sep=';', usecols=['din_instante', 'val_geracao', 'nom_usina'])\n",
    "    df = df[df['nom_usina'] == 'Conj. Bom Jesus']\n",
    "    df['din_instante'] = pd.to_datetime(df['din_instante'])\n",
    "    df = df.set_index('din_instante').drop(columns=['nom_usina'])\n",
    "    final_df.append(df)\n",
    "    \n",
    "final_df = pd.concat(final_df, axis=0)\n",
    "final_df.index = pd.to_datetime(final_df.index)\n",
    "final_df = final_df.rename(columns={'val_geracao':'generation'})\n",
    "final_df.to_csv('data/ufv_bom_jesus_da_lapa_gen.csv')\n"
   ]
  },
  {
   "cell_type": "code",
   "execution_count": null,
   "metadata": {},
   "outputs": [],
   "source": []
  }
 ],
 "metadata": {
  "kernelspec": {
   "display_name": "env",
   "language": "python",
   "name": "python3"
  },
  "language_info": {
   "codemirror_mode": {
    "name": "ipython",
    "version": 3
   },
   "file_extension": ".py",
   "mimetype": "text/x-python",
   "name": "python",
   "nbconvert_exporter": "python",
   "pygments_lexer": "ipython3",
   "version": "3.10.6"
  },
  "orig_nbformat": 4
 },
 "nbformat": 4,
 "nbformat_minor": 2
}
