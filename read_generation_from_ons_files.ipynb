{
 "cells": [
  {
   "cell_type": "code",
   "execution_count": 1,
   "metadata": {},
   "outputs": [],
   "source": [
    "#Data from:\n",
    "#https://dados.ons.org.br/dataset/geracao-usina-2\n",
    "\n",
    "import pandas as pd\n",
    "import os\n",
    "\n",
    "#Selecionei a Conj. Bom Jesus\n",
    "final_df = []\n",
    "columns = ['GERACAO_CENTRO_GRAVIDADE', 'SIGLA_USINA', 'DATA','PERIODO_COMERCIALIZACAO']\n",
    "folder = 'data/geracao_ons/'\n",
    "for file in os.listdir(folder):\n",
    "\n",
    "    path = os.path.join(folder, file)\n",
    "    df = pd.read_csv(path, sep=';', usecols=['din_instante', 'val_geracao', 'nom_usina'])\n",
    "    df = df[df['nom_usina'] == 'Conj. Bom Jesus']\n",
    "    df['din_instante'] = pd.to_datetime(df['din_instante'])\n",
    "    df = df.set_index('din_instante').drop(columns=['nom_usina'])\n",
    "    final_df.append(df)\n",
    "    \n",
    "final_df = pd.concat(final_df, axis=0)\n",
    "final_df.index = pd.to_datetime(final_df.index)\n",
    "final_df = final_df.rename(columns={'val_geracao':'generation'})\n",
    "final_df.to_csv('data/ufv_bom_jesus_da_lapa_gen.csv')\n"
   ]
  },
  {
   "cell_type": "code",
   "execution_count": 5,
   "metadata": {},
   "outputs": [
    {
     "data": {
      "text/html": [
       "<div>\n",
       "<style scoped>\n",
       "    .dataframe tbody tr th:only-of-type {\n",
       "        vertical-align: middle;\n",
       "    }\n",
       "\n",
       "    .dataframe tbody tr th {\n",
       "        vertical-align: top;\n",
       "    }\n",
       "\n",
       "    .dataframe thead th {\n",
       "        text-align: right;\n",
       "    }\n",
       "</style>\n",
       "<table border=\"1\" class=\"dataframe\">\n",
       "  <thead>\n",
       "    <tr style=\"text-align: right;\">\n",
       "      <th></th>\n",
       "      <th>generation</th>\n",
       "    </tr>\n",
       "  </thead>\n",
       "  <tbody>\n",
       "    <tr>\n",
       "      <th>count</th>\n",
       "      <td>977.000000</td>\n",
       "    </tr>\n",
       "    <tr>\n",
       "      <th>mean</th>\n",
       "      <td>14.825193</td>\n",
       "    </tr>\n",
       "    <tr>\n",
       "      <th>std</th>\n",
       "      <td>4.443520</td>\n",
       "    </tr>\n",
       "    <tr>\n",
       "      <th>min</th>\n",
       "      <td>0.000000</td>\n",
       "    </tr>\n",
       "    <tr>\n",
       "      <th>25%</th>\n",
       "      <td>12.347292</td>\n",
       "    </tr>\n",
       "    <tr>\n",
       "      <th>50%</th>\n",
       "      <td>15.562458</td>\n",
       "    </tr>\n",
       "    <tr>\n",
       "      <th>75%</th>\n",
       "      <td>18.042125</td>\n",
       "    </tr>\n",
       "    <tr>\n",
       "      <th>max</th>\n",
       "      <td>23.423458</td>\n",
       "    </tr>\n",
       "  </tbody>\n",
       "</table>\n",
       "</div>"
      ],
      "text/plain": [
       "       generation\n",
       "count  977.000000\n",
       "mean    14.825193\n",
       "std      4.443520\n",
       "min      0.000000\n",
       "25%     12.347292\n",
       "50%     15.562458\n",
       "75%     18.042125\n",
       "max     23.423458"
      ]
     },
     "execution_count": 5,
     "metadata": {},
     "output_type": "execute_result"
    }
   ],
   "source": [
    "daily.describe()"
   ]
  },
  {
   "cell_type": "code",
   "execution_count": 2,
   "metadata": {},
   "outputs": [
    {
     "name": "stderr",
     "output_type": "stream",
     "text": [
      "C:\\Users\\u56389\\AppData\\Local\\Temp\\1\\ipykernel_23988\\3516896030.py:9: FutureWarning: The behavior of 'isin' with dtype=datetime64[ns] and castable values (e.g. strings) is deprecated. In a future version, these will not be considered matching by isin. Explicitly cast to the appropriate dtype before calling isin instead.\n",
      "  final_df_corrected = final_df_corrected[~(final_df_corrected['date'].isin(date_list))]\n"
     ]
    }
   ],
   "source": [
    "#Creating a dataframe where the average daily generation is lower than 10 MWh \n",
    "final_df_corrected = final_df.copy()\n",
    "\n",
    "daily = final_df_corrected.resample('D').mean()\n",
    "date_list = daily[daily['generation']<10].index.date\n",
    "\n",
    "final_df_corrected['date'] =  pd.to_datetime(final_df_corrected.index.date)\n",
    "\n",
    "final_df_corrected = final_df_corrected[~(final_df_corrected['date'].isin(date_list))]\n",
    "final_df_corrected = final_df_corrected.dropna()\n",
    "final_df_corrected = final_df_corrected.drop(columns=['date'])\n",
    "final_df_corrected.to_csv('data/ufv_bom_jesus_da_lapa_gen_removed.csv')"
   ]
  },
  {
   "cell_type": "code",
   "execution_count": 3,
   "metadata": {},
   "outputs": [
    {
     "data": {
      "text/plain": [
       "13.30603889457523"
      ]
     },
     "execution_count": 3,
     "metadata": {},
     "output_type": "execute_result"
    }
   ],
   "source": [
    "#Percentage of the days removed\n",
    "len(date_list)*24/len(final_df)*100"
   ]
  }
 ],
 "metadata": {
  "kernelspec": {
   "display_name": "env",
   "language": "python",
   "name": "python3"
  },
  "language_info": {
   "codemirror_mode": {
    "name": "ipython",
    "version": 3
   },
   "file_extension": ".py",
   "mimetype": "text/x-python",
   "name": "python",
   "nbconvert_exporter": "python",
   "pygments_lexer": "ipython3",
   "version": "3.10.6"
  },
  "orig_nbformat": 4
 },
 "nbformat": 4,
 "nbformat_minor": 2
}
